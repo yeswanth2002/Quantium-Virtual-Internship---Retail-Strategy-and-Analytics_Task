{
 "cells": [
  {
   "cell_type": "markdown",
   "id": "1710e703",
   "metadata": {},
   "source": [
    "here's a step-by-step guide on what you can do to complete the task:\n",
    "\n",
    "1. Load the QVI_data dataset into a pandas DataFrame in Python.\n",
    "\n",
    "2. Filter the DataFrame to include only the data for stores 77, 86, and 88.\n",
    "\n",
    "3. Calculate the monthly sales revenue, total number of customers, and average number of transactions per customer for each store.\n",
    "\n",
    "4. Define a function to select control stores that are similar to the trial stores based on the sales performance over time. You can use Pearson correlation or magnitude distance as a measure to select control stores.\n",
    "\n",
    "5. Select two control stores for each trial store using the function you defined in step 4.\n",
    "\n",
    "6. Create a new DataFrame that combines the data for each trial store with its two selected control stores.\n",
    "\n",
    "7. Perform a t-test to check if there is a significant difference in total sales between the trial stores and their control stores during the trial period.\n",
    "\n",
    "8. Determine if the driver of change in sales is due to more purchasing customers or more purchases per customer by analyzing the data.\n",
    "\n",
    "9. Summarize your findings for each store and provide a recommendation on whether or not the trial layout should be rolled out to all stores.\n",
    "\n",
    "10. Create visualizations to help present your findings to the client.\n",
    "\n",
    "Save your code and results in a PDF file and submit it as your initial findings to Zilinka."
   ]
  },
  {
   "cell_type": "code",
   "execution_count": 1,
   "id": "dde951af",
   "metadata": {},
   "outputs": [],
   "source": [
    "import os\n",
    "import json\n",
    "import random\n",
    "import collections\n",
    "import numpy as np\n",
    "import pandas as pd\n",
    "import seaborn as sns\n",
    "import matplotlib.pyplot as plt\n",
    "from scipy.stats import pearsonr\n",
    "import warnings\n",
    "warnings.filterwarnings(\"ignore\")"
   ]
  },
  {
   "cell_type": "code",
   "execution_count": 2,
   "id": "d51cc3d0",
   "metadata": {},
   "outputs": [
    {
     "data": {
      "text/html": [
       "<div>\n",
       "<style scoped>\n",
       "    .dataframe tbody tr th:only-of-type {\n",
       "        vertical-align: middle;\n",
       "    }\n",
       "\n",
       "    .dataframe tbody tr th {\n",
       "        vertical-align: top;\n",
       "    }\n",
       "\n",
       "    .dataframe thead th {\n",
       "        text-align: right;\n",
       "    }\n",
       "</style>\n",
       "<table border=\"1\" class=\"dataframe\">\n",
       "  <thead>\n",
       "    <tr style=\"text-align: right;\">\n",
       "      <th></th>\n",
       "      <th>LYLTY_CARD_NBR</th>\n",
       "      <th>DATE</th>\n",
       "      <th>STORE_NBR</th>\n",
       "      <th>TXN_ID</th>\n",
       "      <th>PROD_NBR</th>\n",
       "      <th>PROD_NAME</th>\n",
       "      <th>PROD_QTY</th>\n",
       "      <th>TOT_SALES</th>\n",
       "      <th>PACK_SIZE</th>\n",
       "      <th>BRAND</th>\n",
       "      <th>LIFESTAGE</th>\n",
       "      <th>PREMIUM_CUSTOMER</th>\n",
       "    </tr>\n",
       "  </thead>\n",
       "  <tbody>\n",
       "    <tr>\n",
       "      <th>0</th>\n",
       "      <td>1000</td>\n",
       "      <td>2018-10-17</td>\n",
       "      <td>1</td>\n",
       "      <td>1</td>\n",
       "      <td>5</td>\n",
       "      <td>Natural Chip        Compny SeaSalt175g</td>\n",
       "      <td>2</td>\n",
       "      <td>6.0</td>\n",
       "      <td>175</td>\n",
       "      <td>NATURAL</td>\n",
       "      <td>YOUNG SINGLES/COUPLES</td>\n",
       "      <td>Premium</td>\n",
       "    </tr>\n",
       "    <tr>\n",
       "      <th>1</th>\n",
       "      <td>1002</td>\n",
       "      <td>2018-09-16</td>\n",
       "      <td>1</td>\n",
       "      <td>2</td>\n",
       "      <td>58</td>\n",
       "      <td>Red Rock Deli Chikn&amp;Garlic Aioli 150g</td>\n",
       "      <td>1</td>\n",
       "      <td>2.7</td>\n",
       "      <td>150</td>\n",
       "      <td>RRD</td>\n",
       "      <td>YOUNG SINGLES/COUPLES</td>\n",
       "      <td>Mainstream</td>\n",
       "    </tr>\n",
       "    <tr>\n",
       "      <th>2</th>\n",
       "      <td>1003</td>\n",
       "      <td>2019-03-07</td>\n",
       "      <td>1</td>\n",
       "      <td>3</td>\n",
       "      <td>52</td>\n",
       "      <td>Grain Waves Sour    Cream&amp;Chives 210G</td>\n",
       "      <td>1</td>\n",
       "      <td>3.6</td>\n",
       "      <td>210</td>\n",
       "      <td>GRNWVES</td>\n",
       "      <td>YOUNG FAMILIES</td>\n",
       "      <td>Budget</td>\n",
       "    </tr>\n",
       "    <tr>\n",
       "      <th>3</th>\n",
       "      <td>1003</td>\n",
       "      <td>2019-03-08</td>\n",
       "      <td>1</td>\n",
       "      <td>4</td>\n",
       "      <td>106</td>\n",
       "      <td>Natural ChipCo      Hony Soy Chckn175g</td>\n",
       "      <td>1</td>\n",
       "      <td>3.0</td>\n",
       "      <td>175</td>\n",
       "      <td>NATURAL</td>\n",
       "      <td>YOUNG FAMILIES</td>\n",
       "      <td>Budget</td>\n",
       "    </tr>\n",
       "    <tr>\n",
       "      <th>4</th>\n",
       "      <td>1004</td>\n",
       "      <td>2018-11-02</td>\n",
       "      <td>1</td>\n",
       "      <td>5</td>\n",
       "      <td>96</td>\n",
       "      <td>WW Original Stacked Chips 160g</td>\n",
       "      <td>1</td>\n",
       "      <td>1.9</td>\n",
       "      <td>160</td>\n",
       "      <td>WOOLWORTHS</td>\n",
       "      <td>OLDER SINGLES/COUPLES</td>\n",
       "      <td>Mainstream</td>\n",
       "    </tr>\n",
       "    <tr>\n",
       "      <th>...</th>\n",
       "      <td>...</td>\n",
       "      <td>...</td>\n",
       "      <td>...</td>\n",
       "      <td>...</td>\n",
       "      <td>...</td>\n",
       "      <td>...</td>\n",
       "      <td>...</td>\n",
       "      <td>...</td>\n",
       "      <td>...</td>\n",
       "      <td>...</td>\n",
       "      <td>...</td>\n",
       "      <td>...</td>\n",
       "    </tr>\n",
       "    <tr>\n",
       "      <th>264829</th>\n",
       "      <td>2370701</td>\n",
       "      <td>2018-12-08</td>\n",
       "      <td>88</td>\n",
       "      <td>240378</td>\n",
       "      <td>24</td>\n",
       "      <td>Grain Waves         Sweet Chilli 210g</td>\n",
       "      <td>2</td>\n",
       "      <td>7.2</td>\n",
       "      <td>210</td>\n",
       "      <td>GRNWVES</td>\n",
       "      <td>YOUNG FAMILIES</td>\n",
       "      <td>Mainstream</td>\n",
       "    </tr>\n",
       "    <tr>\n",
       "      <th>264830</th>\n",
       "      <td>2370751</td>\n",
       "      <td>2018-10-01</td>\n",
       "      <td>88</td>\n",
       "      <td>240394</td>\n",
       "      <td>60</td>\n",
       "      <td>Kettle Tortilla ChpsFeta&amp;Garlic 150g</td>\n",
       "      <td>2</td>\n",
       "      <td>9.2</td>\n",
       "      <td>150</td>\n",
       "      <td>KETTLE</td>\n",
       "      <td>YOUNG FAMILIES</td>\n",
       "      <td>Premium</td>\n",
       "    </tr>\n",
       "    <tr>\n",
       "      <th>264831</th>\n",
       "      <td>2370961</td>\n",
       "      <td>2018-10-24</td>\n",
       "      <td>88</td>\n",
       "      <td>240480</td>\n",
       "      <td>70</td>\n",
       "      <td>Tyrrells Crisps     Lightly Salted 165g</td>\n",
       "      <td>2</td>\n",
       "      <td>8.4</td>\n",
       "      <td>165</td>\n",
       "      <td>TYRRELLS</td>\n",
       "      <td>OLDER FAMILIES</td>\n",
       "      <td>Budget</td>\n",
       "    </tr>\n",
       "    <tr>\n",
       "      <th>264832</th>\n",
       "      <td>2370961</td>\n",
       "      <td>2018-10-27</td>\n",
       "      <td>88</td>\n",
       "      <td>240481</td>\n",
       "      <td>65</td>\n",
       "      <td>Old El Paso Salsa   Dip Chnky Tom Ht300g</td>\n",
       "      <td>2</td>\n",
       "      <td>10.2</td>\n",
       "      <td>300</td>\n",
       "      <td>OLD</td>\n",
       "      <td>OLDER FAMILIES</td>\n",
       "      <td>Budget</td>\n",
       "    </tr>\n",
       "    <tr>\n",
       "      <th>264833</th>\n",
       "      <td>2373711</td>\n",
       "      <td>2018-12-14</td>\n",
       "      <td>88</td>\n",
       "      <td>241815</td>\n",
       "      <td>16</td>\n",
       "      <td>Smiths Crinkle Chips Salt &amp; Vinegar 330g</td>\n",
       "      <td>2</td>\n",
       "      <td>11.4</td>\n",
       "      <td>330</td>\n",
       "      <td>SMITHS</td>\n",
       "      <td>YOUNG SINGLES/COUPLES</td>\n",
       "      <td>Mainstream</td>\n",
       "    </tr>\n",
       "  </tbody>\n",
       "</table>\n",
       "<p>264834 rows × 12 columns</p>\n",
       "</div>"
      ],
      "text/plain": [
       "        LYLTY_CARD_NBR        DATE  STORE_NBR  TXN_ID  PROD_NBR  \\\n",
       "0                 1000  2018-10-17          1       1         5   \n",
       "1                 1002  2018-09-16          1       2        58   \n",
       "2                 1003  2019-03-07          1       3        52   \n",
       "3                 1003  2019-03-08          1       4       106   \n",
       "4                 1004  2018-11-02          1       5        96   \n",
       "...                ...         ...        ...     ...       ...   \n",
       "264829         2370701  2018-12-08         88  240378        24   \n",
       "264830         2370751  2018-10-01         88  240394        60   \n",
       "264831         2370961  2018-10-24         88  240480        70   \n",
       "264832         2370961  2018-10-27         88  240481        65   \n",
       "264833         2373711  2018-12-14         88  241815        16   \n",
       "\n",
       "                                       PROD_NAME  PROD_QTY  TOT_SALES  \\\n",
       "0         Natural Chip        Compny SeaSalt175g         2        6.0   \n",
       "1          Red Rock Deli Chikn&Garlic Aioli 150g         1        2.7   \n",
       "2          Grain Waves Sour    Cream&Chives 210G         1        3.6   \n",
       "3         Natural ChipCo      Hony Soy Chckn175g         1        3.0   \n",
       "4                 WW Original Stacked Chips 160g         1        1.9   \n",
       "...                                          ...       ...        ...   \n",
       "264829     Grain Waves         Sweet Chilli 210g         2        7.2   \n",
       "264830      Kettle Tortilla ChpsFeta&Garlic 150g         2        9.2   \n",
       "264831   Tyrrells Crisps     Lightly Salted 165g         2        8.4   \n",
       "264832  Old El Paso Salsa   Dip Chnky Tom Ht300g         2       10.2   \n",
       "264833  Smiths Crinkle Chips Salt & Vinegar 330g         2       11.4   \n",
       "\n",
       "        PACK_SIZE       BRAND              LIFESTAGE PREMIUM_CUSTOMER  \n",
       "0             175     NATURAL  YOUNG SINGLES/COUPLES          Premium  \n",
       "1             150         RRD  YOUNG SINGLES/COUPLES       Mainstream  \n",
       "2             210     GRNWVES         YOUNG FAMILIES           Budget  \n",
       "3             175     NATURAL         YOUNG FAMILIES           Budget  \n",
       "4             160  WOOLWORTHS  OLDER SINGLES/COUPLES       Mainstream  \n",
       "...           ...         ...                    ...              ...  \n",
       "264829        210     GRNWVES         YOUNG FAMILIES       Mainstream  \n",
       "264830        150      KETTLE         YOUNG FAMILIES          Premium  \n",
       "264831        165    TYRRELLS         OLDER FAMILIES           Budget  \n",
       "264832        300         OLD         OLDER FAMILIES           Budget  \n",
       "264833        330      SMITHS  YOUNG SINGLES/COUPLES       Mainstream  \n",
       "\n",
       "[264834 rows x 12 columns]"
      ]
     },
     "execution_count": 2,
     "metadata": {},
     "output_type": "execute_result"
    }
   ],
   "source": [
    "df=pd.read_csv('QVI_data.csv')\n",
    "df"
   ]
  },
  {
   "cell_type": "code",
   "execution_count": 3,
   "id": "03fda250",
   "metadata": {
    "scrolled": true
   },
   "outputs": [
    {
     "data": {
      "text/plain": [
       "LYLTY_CARD_NBR        int64\n",
       "DATE                 object\n",
       "STORE_NBR             int64\n",
       "TXN_ID                int64\n",
       "PROD_NBR              int64\n",
       "PROD_NAME            object\n",
       "PROD_QTY              int64\n",
       "TOT_SALES           float64\n",
       "PACK_SIZE             int64\n",
       "BRAND                object\n",
       "LIFESTAGE            object\n",
       "PREMIUM_CUSTOMER     object\n",
       "dtype: object"
      ]
     },
     "execution_count": 3,
     "metadata": {},
     "output_type": "execute_result"
    }
   ],
   "source": [
    "df.dtypes"
   ]
  },
  {
   "cell_type": "code",
   "execution_count": 4,
   "id": "1ed8c88c",
   "metadata": {
    "scrolled": false
   },
   "outputs": [
    {
     "name": "stdout",
     "output_type": "stream",
     "text": [
      "<class 'pandas.core.frame.DataFrame'>\n",
      "RangeIndex: 264834 entries, 0 to 264833\n",
      "Data columns (total 12 columns):\n",
      " #   Column            Non-Null Count   Dtype  \n",
      "---  ------            --------------   -----  \n",
      " 0   LYLTY_CARD_NBR    264834 non-null  int64  \n",
      " 1   DATE              264834 non-null  object \n",
      " 2   STORE_NBR         264834 non-null  int64  \n",
      " 3   TXN_ID            264834 non-null  int64  \n",
      " 4   PROD_NBR          264834 non-null  int64  \n",
      " 5   PROD_NAME         264834 non-null  object \n",
      " 6   PROD_QTY          264834 non-null  int64  \n",
      " 7   TOT_SALES         264834 non-null  float64\n",
      " 8   PACK_SIZE         264834 non-null  int64  \n",
      " 9   BRAND             264834 non-null  object \n",
      " 10  LIFESTAGE         264834 non-null  object \n",
      " 11  PREMIUM_CUSTOMER  264834 non-null  object \n",
      "dtypes: float64(1), int64(6), object(5)\n",
      "memory usage: 24.2+ MB\n"
     ]
    }
   ],
   "source": [
    "df.info()"
   ]
  },
  {
   "cell_type": "code",
   "execution_count": 5,
   "id": "53ee57e6",
   "metadata": {},
   "outputs": [
    {
     "data": {
      "text/plain": [
       "LYLTY_CARD_NBR      0\n",
       "DATE                0\n",
       "STORE_NBR           0\n",
       "TXN_ID              0\n",
       "PROD_NBR            0\n",
       "PROD_NAME           0\n",
       "PROD_QTY            0\n",
       "TOT_SALES           0\n",
       "PACK_SIZE           0\n",
       "BRAND               0\n",
       "LIFESTAGE           0\n",
       "PREMIUM_CUSTOMER    0\n",
       "dtype: int64"
      ]
     },
     "execution_count": 5,
     "metadata": {},
     "output_type": "execute_result"
    }
   ],
   "source": [
    "df.isnull().sum()"
   ]
  },
  {
   "cell_type": "code",
   "execution_count": 6,
   "id": "546cb0d7",
   "metadata": {},
   "outputs": [],
   "source": [
    "#droping missing values\n",
    "df.dropna(axis = 0, how ='any',inplace=True)"
   ]
  },
  {
   "cell_type": "code",
   "execution_count": 7,
   "id": "02787170",
   "metadata": {},
   "outputs": [
    {
     "data": {
      "text/plain": [
       "Mainstream    101988\n",
       "Budget         93157\n",
       "Premium        69689\n",
       "Name: PREMIUM_CUSTOMER, dtype: int64"
      ]
     },
     "execution_count": 7,
     "metadata": {},
     "output_type": "execute_result"
    }
   ],
   "source": [
    "df['PREMIUM_CUSTOMER'].value_counts()"
   ]
  },
  {
   "cell_type": "code",
   "execution_count": 8,
   "id": "66fcd90a",
   "metadata": {
    "scrolled": true
   },
   "outputs": [
    {
     "data": {
      "text/plain": [
       "Mainstream    0.385102\n",
       "Budget        0.351756\n",
       "Premium       0.263142\n",
       "Name: PREMIUM_CUSTOMER, dtype: float64"
      ]
     },
     "execution_count": 8,
     "metadata": {},
     "output_type": "execute_result"
    }
   ],
   "source": [
    "df['PREMIUM_CUSTOMER'].value_counts(normalize=True)"
   ]
  },
  {
   "cell_type": "code",
   "execution_count": 9,
   "id": "d7ec488f",
   "metadata": {},
   "outputs": [
    {
     "name": "stdout",
     "output_type": "stream",
     "text": [
      "     STORE_NBR  PROD_QTY\n",
      "0            1       704\n",
      "1            2       564\n",
      "2            3      2915\n",
      "3            4      3316\n",
      "4            5      2704\n",
      "..         ...       ...\n",
      "267        268       732\n",
      "268        269      3191\n",
      "269        270      3235\n",
      "270        271      2740\n",
      "271        272      1063\n",
      "\n",
      "[272 rows x 2 columns]\n"
     ]
    }
   ],
   "source": [
    "store_prod_count = df.groupby('STORE_NBR')['PROD_QTY'].sum().reset_index()\n",
    "print(store_prod_count)"
   ]
  },
  {
   "cell_type": "code",
   "execution_count": 10,
   "id": "123e9b59",
   "metadata": {
    "scrolled": true
   },
   "outputs": [
    {
     "data": {
      "image/png": "[encoded data removed]",
      "text/plain": [
       "<Figure size 432x288 with 1 Axes>"
      ]
     },
     "metadata": {
      "needs_background": "light"
     },
     "output_type": "display_data"
    }
   ],
   "source": [
    "plt.bar(store_prod_count['STORE_NBR'], store_prod_count['PROD_QTY'])\n",
    "plt.xlabel('Store Number')\n",
    "plt.ylabel('Product Quantity Count')\n",
    "plt.show()"
   ]
  },
  {
   "cell_type": "code",
   "execution_count": 11,
   "id": "8ccd865d",
   "metadata": {},
   "outputs": [
    {
     "name": "stdout",
     "output_type": "stream",
     "text": [
      "       LYLTY_CARD_NBR        DATE  STORE_NBR  TXN_ID  PROD_NBR  \\\n",
      "73365           77000  2019-03-28         77   74911        18   \n",
      "73366           77000  2019-04-13         77   74912        69   \n",
      "73367           77000  2018-09-26         77   74910        36   \n",
      "73368           77001  2019-02-27         77   74913         7   \n",
      "73369           77001  2019-01-21         77   74914         9   \n",
      "\n",
      "                                     PROD_NAME  PROD_QTY  TOT_SALES  \\\n",
      "73365           Cheetos Chs & Bacon Balls 190g         1        3.3   \n",
      "73366   Smiths Chip Thinly  S/Cream&Onion 175g         1        3.0   \n",
      "73367                       Kettle Chilli 175g         2       10.8   \n",
      "73368        Smiths Crinkle      Original 330g         2       11.4   \n",
      "73369  Kettle Tortilla ChpsBtroot&Ricotta 150g         2        9.2   \n",
      "\n",
      "       PACK_SIZE    BRAND               LIFESTAGE PREMIUM_CUSTOMER  \n",
      "73365        190  CHEETOS  MIDAGE SINGLES/COUPLES           Budget  \n",
      "73366        175   SMITHS  MIDAGE SINGLES/COUPLES           Budget  \n",
      "73367        175   KETTLE  MIDAGE SINGLES/COUPLES           Budget  \n",
      "73368        330   SMITHS          YOUNG FAMILIES       Mainstream  \n",
      "73369        150   KETTLE          YOUNG FAMILIES       Mainstream  \n"
     ]
    }
   ],
   "source": [
    "stores = [77, 86, 88]\n",
    "data = df.loc[df['STORE_NBR'].isin(stores)]\n",
    "print(data.head())"
   ]
  },
  {
   "cell_type": "code",
   "execution_count": 12,
   "id": "2d325725",
   "metadata": {},
   "outputs": [
    {
     "data": {
      "text/plain": [
       "88    1873\n",
       "86    1538\n",
       "77     563\n",
       "Name: STORE_NBR, dtype: int64"
      ]
     },
     "execution_count": 12,
     "metadata": {},
     "output_type": "execute_result"
    }
   ],
   "source": [
    "data['STORE_NBR'].value_counts()"
   ]
  },
  {
   "cell_type": "code",
   "execution_count": 13,
   "id": "4d2defe3",
   "metadata": {},
   "outputs": [
    {
     "data": {
      "text/plain": [
       "True"
      ]
     },
     "execution_count": 13,
     "metadata": {},
     "output_type": "execute_result"
    }
   ],
   "source": [
    "df['DATE'].duplicated().any()"
   ]
  },
  {
   "cell_type": "code",
   "execution_count": 14,
   "id": "9a063b5b",
   "metadata": {},
   "outputs": [
    {
     "name": "stdout",
     "output_type": "stream",
     "text": [
      "['2018-10-17' '2018-09-16' '2019-03-07' '2019-03-08' '2018-11-02'\n",
      " '2018-12-28' '2018-12-04' '2018-12-05' '2018-11-20' '2018-09-09'\n",
      " '2018-12-14' '2018-07-29' '2018-11-08' '2018-12-01' '2018-12-19'\n",
      " '2019-03-15' '2019-06-19' '2019-03-04' '2019-04-19' '2019-06-09'\n",
      " '2018-09-03' '2018-11-28' '2019-06-20' '2019-01-27' '2018-08-16'\n",
      " '2018-10-02' '2019-05-02' '2018-10-24' '2019-05-27' '2019-02-20'\n",
      " '2018-11-21' '2018-12-08' '2018-07-06' '2018-08-13' '2019-06-05'\n",
      " '2019-06-23' '2019-03-24' '2019-03-29' '2018-12-07' '2018-10-30'\n",
      " '2018-07-21' '2019-02-12' '2019-04-23' '2019-02-16' '2019-06-30'\n",
      " '2019-02-13' '2018-08-02' '2019-01-24' '2019-04-13' '2018-09-25'\n",
      " '2018-09-05' '2018-08-07' '2018-11-24' '2019-02-05' '2018-07-08'\n",
      " '2019-05-31' '2019-02-24' '2018-10-01' '2019-04-01' '2019-05-06'\n",
      " '2019-04-25' '2018-11-23' '2019-02-10' '2019-02-06' '2019-02-22'\n",
      " '2018-09-11' '2018-09-24' '2019-06-13' '2018-10-27' '2019-01-10'\n",
      " '2019-05-18' '2019-01-19' '2018-07-27' '2019-04-04' '2019-01-18'\n",
      " '2019-05-16' '2018-11-30' '2019-02-28' '2019-06-18' '2018-09-27'\n",
      " '2019-02-27' '2019-03-19' '2019-06-16' '2018-11-03' '2018-07-25'\n",
      " '2019-04-10' '2018-09-18' '2019-03-23' '2019-04-27' '2018-12-26'\n",
      " '2018-10-21' '2018-07-02' '2018-11-27' '2019-05-05' '2018-10-10'\n",
      " '2019-02-25' '2018-07-17' '2018-07-20' '2019-03-06' '2019-05-13'\n",
      " '2019-05-22' '2019-05-23' '2019-03-28' '2018-07-09' '2018-12-17'\n",
      " '2018-10-04' '2019-03-26' '2018-08-26' '2018-09-08' '2018-09-19'\n",
      " '2018-09-20' '2019-02-26' '2019-04-17' '2019-03-05' '2018-07-14'\n",
      " '2018-08-25' '2019-05-07' '2018-09-23' '2018-09-04' '2019-05-12'\n",
      " '2018-08-08' '2019-02-04' '2018-12-13' '2019-06-27' '2018-11-12'\n",
      " '2019-04-24' '2019-01-12' '2019-05-26' '2019-02-02' '2019-04-05'\n",
      " '2019-06-25' '2018-09-07' '2018-12-03' '2019-04-22' '2018-10-06'\n",
      " '2019-03-10' '2019-05-24' '2018-08-11' '2019-05-01' '2018-10-13'\n",
      " '2019-02-23' '2019-04-14' '2018-07-16' '2018-12-21' '2019-02-08'\n",
      " '2018-12-15' '2018-09-02' '2018-08-17' '2019-02-07' '2019-01-07'\n",
      " '2019-03-02' '2019-05-17' '2018-08-05' '2019-02-09' '2018-10-14'\n",
      " '2018-10-25' '2018-09-15' '2018-12-20' '2018-12-23' '2018-10-08'\n",
      " '2019-02-15' '2018-12-24' '2018-09-13' '2018-08-22' '2018-12-12'\n",
      " '2018-11-25' '2018-10-31' '2018-07-13' '2018-09-10' '2019-02-03'\n",
      " '2019-06-17' '2019-03-11' '2019-01-23' '2019-02-11' '2018-08-24'\n",
      " '2019-01-04' '2019-01-26' '2018-08-10' '2018-07-18' '2019-01-01'\n",
      " '2019-01-30' '2018-07-28' '2019-04-30' '2018-12-16' '2018-09-01'\n",
      " '2019-03-27' '2018-09-21' '2018-10-09' '2018-08-04' '2018-12-27'\n",
      " '2018-07-01' '2019-01-11' '2019-06-21' '2018-09-29' '2018-10-07'\n",
      " '2019-02-17' '2018-09-30' '2018-12-18' '2019-06-02' '2019-04-07'\n",
      " '2019-01-02' '2019-05-28' '2019-03-09' '2019-03-30' '2018-07-30'\n",
      " '2019-01-16' '2019-05-11' '2018-12-06' '2019-01-08' '2018-11-29'\n",
      " '2019-06-22' '2018-10-15' '2019-02-01' '2018-11-19' '2018-08-29'\n",
      " '2018-11-10' '2019-05-14' '2018-08-14' '2018-07-23' '2018-07-04'\n",
      " '2018-08-09' '2019-04-16' '2019-01-25' '2018-09-06' '2018-11-13'\n",
      " '2018-08-01' '2018-11-17' '2018-07-22' '2018-07-15' '2018-11-11'\n",
      " '2018-11-26' '2019-05-29' '2018-07-26' '2018-08-06' '2019-02-18'\n",
      " '2019-05-20' '2018-11-01' '2019-03-13' '2019-03-25' '2019-04-21'\n",
      " '2018-07-11' '2018-12-11' '2019-06-14' '2018-07-19' '2019-01-09'\n",
      " '2019-05-25' '2018-12-02' '2019-06-01' '2019-05-08' '2018-11-04'\n",
      " '2019-06-04' '2019-01-29' '2018-07-03' '2018-11-05' '2018-10-22'\n",
      " '2019-04-02' '2018-11-06' '2018-08-03' '2019-06-26' '2018-11-16'\n",
      " '2018-10-05' '2019-03-22' '2019-06-15' '2018-12-29' '2019-04-06'\n",
      " '2019-05-30' '2019-06-07' '2018-08-15' '2018-10-18' '2019-04-20'\n",
      " '2019-03-01' '2018-08-12' '2018-11-07' '2019-03-16' '2019-06-10'\n",
      " '2018-07-24' '2018-08-28' '2018-09-17' '2018-11-14' '2019-03-17'\n",
      " '2018-10-26' '2019-05-10' '2019-06-29' '2019-02-21' '2019-01-31'\n",
      " '2018-12-31' '2018-12-09' '2019-01-13' '2019-01-03' '2019-05-21'\n",
      " '2018-08-18' '2019-03-21' '2018-10-20' '2018-09-28' '2019-04-09'\n",
      " '2019-06-03' '2018-07-31' '2018-11-09' '2018-08-20' '2019-04-11'\n",
      " '2018-10-19' '2018-08-27' '2018-10-23' '2019-06-28' '2019-04-28'\n",
      " '2019-06-12' '2019-05-19' '2019-06-06' '2018-07-07' '2018-07-12'\n",
      " '2019-05-15' '2019-01-14' '2018-07-05' '2018-07-10' '2019-03-18'\n",
      " '2019-05-04' '2019-01-28' '2019-06-24' '2019-04-03' '2018-09-12'\n",
      " '2019-06-08' '2019-01-20' '2018-12-30' '2019-04-18' '2019-01-17'\n",
      " '2018-09-14' '2019-04-08' '2019-02-19' '2018-08-30' '2018-10-29'\n",
      " '2019-01-06' '2018-10-12' '2019-01-21' '2018-08-31' '2019-03-03'\n",
      " '2018-11-15' '2019-04-26' '2019-06-11' '2018-09-22' '2018-09-26'\n",
      " '2018-11-18' '2019-03-12' '2018-10-28' '2018-10-16' '2018-12-10'\n",
      " '2018-10-03' '2018-08-21' '2019-04-29' '2019-04-12' '2018-12-22'\n",
      " '2019-04-15' '2018-10-11' '2019-01-22' '2018-08-23' '2019-02-14'\n",
      " '2019-03-31' '2019-01-05' '2019-03-14' '2018-08-19' '2019-05-09'\n",
      " '2019-01-15' '2018-11-22' '2019-03-20' '2019-05-03']\n"
     ]
    }
   ],
   "source": [
    "duplicates = df[df.duplicated(subset='DATE', keep=False)]\n",
    "print(duplicates['DATE'].unique())"
   ]
  },
  {
   "cell_type": "code",
   "execution_count": 15,
   "id": "921073b1",
   "metadata": {},
   "outputs": [],
   "source": [
    "df['DATE'] = pd.to_datetime(df['DATE'])\n",
    "\n",
    "df['MONTH_YEAR'] = df['DATE'].dt.to_period('M')\n",
    "\n",
    "grouped_df = df.groupby(['STORE_NBR', 'MONTH_YEAR']).agg({'TOT_SALES': 'sum', 'LYLTY_CARD_NBR': 'nunique', 'TXN_ID': 'nunique'})\n",
    "\n",
    "grouped_df = grouped_df.rename(columns={'TOT_SALES': 'SALES_REVENUE', 'LYLTY_CARD_NBR': 'TOTAL_CUSTOMERS', 'TXN_ID': 'TRANSACTIONS_PER_CUSTOMER'})\n",
    "\n",
    "grouped_df = grouped_df.reset_index()"
   ]
  },
  {
   "cell_type": "code",
   "execution_count": 16,
   "id": "ed5617d4",
   "metadata": {},
   "outputs": [],
   "source": [
    "monthly_sales = df.groupby(['STORE_NBR', 'MONTH_YEAR'])['TOT_SALES'].sum().reset_index()\n",
    "\n",
    "total_customers = df.groupby(['STORE_NBR', 'MONTH_YEAR'])['LYLTY_CARD_NBR'].nunique().reset_index()\n",
    "total_customers = total_customers.rename(columns={'LYLTY_CARD_NBR': 'TOT_CUSTOMERS'})\n",
    "\n",
    "avg_transactions = monthly_sales['TOT_SALES'] / total_customers['TOT_CUSTOMERS']\n",
    "\n",
    "result = monthly_sales[['STORE_NBR', 'MONTH_YEAR', 'TOT_SALES']].merge(total_customers, on=['STORE_NBR', 'MONTH_YEAR'])\n",
    "result['AVG_TRANSACTIONS'] = avg_transactions"
   ]
  },
  {
   "cell_type": "code",
   "execution_count": 17,
   "id": "abea234c",
   "metadata": {},
   "outputs": [
    {
     "name": "stdout",
     "output_type": "stream",
     "text": [
      "      STORE_NBR MONTH_YEAR  TOT_SALES  TOT_CUSTOMERS  AVG_TRANSACTIONS\n",
      "0             1    2018-07      206.9             49          4.222449\n",
      "1             1    2018-08      176.1             42          4.192857\n",
      "2             1    2018-09      278.8             59          4.725424\n",
      "3             1    2018-10      188.1             44          4.275000\n",
      "4             1    2018-11      192.6             46          4.186957\n",
      "...         ...        ...        ...            ...               ...\n",
      "3164        272    2019-02      395.5             45          8.788889\n",
      "3165        272    2019-03      442.3             50          8.846000\n",
      "3166        272    2019-04      445.1             54          8.242593\n",
      "3167        272    2019-05      314.6             34          9.252941\n",
      "3168        272    2019-06      312.1             34          9.179412\n",
      "\n",
      "[3169 rows x 5 columns]\n"
     ]
    }
   ],
   "source": [
    "print(result)"
   ]
  },
  {
   "cell_type": "code",
   "execution_count": 18,
   "id": "59151d6a",
   "metadata": {},
   "outputs": [
    {
     "name": "stdout",
     "output_type": "stream",
     "text": [
      "      STORE_NBR MONTH_YEAR  TOT_SALES  TOT_CUSTOMERS  AVG_TRANSACTIONS\n",
      "2620        226    2018-12     1659.6            150            11.064\n"
     ]
    }
   ],
   "source": [
    "max_sales = result.loc[result['TOT_SALES'] == result['TOT_SALES'].max()]\n",
    "print(max_sales)"
   ]
  },
  {
   "cell_type": "code",
   "execution_count": 19,
   "id": "6d7c5bf3",
   "metadata": {},
   "outputs": [
    {
     "name": "stdout",
     "output_type": "stream",
     "text": [
      "      STORE_NBR MONTH_YEAR  TOT_SALES  TOT_CUSTOMERS  AVG_TRANSACTIONS\n",
      "2620        226    2018-12     1659.6            150            11.064\n"
     ]
    }
   ],
   "source": [
    "max_customers = result.loc[result['TOT_CUSTOMERS'] == result['TOT_CUSTOMERS'].max()]\n",
    "print(max_customers)"
   ]
  },
  {
   "cell_type": "code",
   "execution_count": 34,
   "id": "7cb49a17",
   "metadata": {},
   "outputs": [],
   "source": [
    "def select_control_stores(trial_store, control_stores, df, measure='pearsonr'):\n",
    "    trial_store_sales = df[df['STORE_NBR'] == trial_store]['TOT_SALES'].reset_index(drop=True)\n",
    "    control_store_dict = {}\n",
    "    for control_store in control_stores:\n",
    "        control_store_sales = df[df['STORE_NBR'] == control_store]['TOT_SALES'].reset_index(drop=True)\n",
    "        \n",
    "        min_len = min(len(trial_store_sales), len(control_store_sales))\n",
    "        trial_store_sales = trial_store_sales[:min_len]\n",
    "        control_store_sales = control_store_sales[:min_len]\n",
    "        \n",
    "        if len(trial_store_sales) < 2 or len(control_store_sales) < 2:\n",
    "            continue\n",
    "        \n",
    "        if measure == 'pearsonr':\n",
    "            measure_val = pearsonr(trial_store_sales, control_store_sales)[0]\n",
    "        elif measure == 'magnitude_distance':\n",
    "            measure_val = magnitude_distance(trial_store_sales, control_store_sales)\n",
    "        control_store_dict[control_store] = measure_val\n",
    "    control_store_dict = dict(sorted(control_store_dict.items(), key=lambda item: item[1], reverse=True))\n",
    "    return list(control_store_dict.keys())\n",
    "\n",
    "control_store_dict = {}\n",
    "for trial_store in trial_stores:\n",
    "    control_stores = list(set(df['STORE_NBR'].unique()) - set([trial_store]))\n",
    "    control_stores = select_control_stores(trial_store, control_stores, df, measure='pearsonr')[:2]\n",
    "    control_store_dict[trial_store] = control_stores\n"
   ]
  },
  {
   "cell_type": "code",
   "execution_count": 35,
   "id": "d8fd4248",
   "metadata": {},
   "outputs": [
    {
     "name": "stdout",
     "output_type": "stream",
     "text": [
      "Trial Store: 77, Control Stores: [12, 17]\n",
      "Trial Store: 86, Control Stores: [11, 13]\n",
      "Trial Store: 88, Control Stores: [12, 17]\n"
     ]
    }
   ],
   "source": [
    "for trial_store in trial_stores:\n",
    "    control_stores = control_store_dict[trial_store]\n",
    "    print(f'Trial Store: {trial_store}, Control Stores: {control_stores}')"
   ]
  },
  {
   "cell_type": "code",
   "execution_count": 37,
   "id": "d17c6948",
   "metadata": {},
   "outputs": [
    {
     "name": "stdout",
     "output_type": "stream",
     "text": [
      "Trial Store 77 vs Control Store 12:\n",
      "t-value = nan, p-value = nan\n",
      "Trial Store 77 vs Control Store 17:\n",
      "t-value = nan, p-value = nan\n",
      "Trial Store 86 vs Control Store 11:\n",
      "t-value = nan, p-value = nan\n",
      "Trial Store 86 vs Control Store 13:\n",
      "t-value = nan, p-value = nan\n",
      "Trial Store 88 vs Control Store 12:\n",
      "t-value = nan, p-value = nan\n",
      "Trial Store 88 vs Control Store 17:\n",
      "t-value = nan, p-value = nan\n"
     ]
    }
   ],
   "source": [
    "from scipy.stats import ttest_ind\n",
    "\n",
    "trial_period = [201902, 201903, 201904]\n",
    "\n",
    "for trial_store in trial_stores:\n",
    "    control_stores = control_store_dict[trial_store]\n",
    "    for control_store in control_stores:\n",
    "        trial_sales = df[(df['STORE_NBR'] == trial_store) & (df['YEARMONTH'].isin(trial_period))]['TOT_SALES']\n",
    "        control_sales = df[(df['STORE_NBR'] == control_store) & (df['YEARMONTH'].isin(trial_period))]['TOT_SALES']\n",
    "        t, p = ttest_ind(trial_sales, control_sales)\n",
    "        print(f\"Trial Store {trial_store} vs Control Store {control_store}:\")\n",
    "        print(f\"t-value = {t:.3f}, p-value = {p:.3f}\")"
   ]
  },
  {
   "cell_type": "code",
   "execution_count": 40,
   "id": "954b9c70",
   "metadata": {},
   "outputs": [
    {
     "name": "stdout",
     "output_type": "stream",
     "text": [
      "trial_customers :  388\n",
      "Control Customers:  595\n",
      "trial_txns_per_cust:  4.786082474226804\n",
      "control_txns_per_cust:  1.8857142857142857\n",
      "trial_items_per_txn:  1.9850507207688202\n",
      "control_items_per_txn:  1.9396092362344584\n",
      "trial_sales_per_cust:  42.09600515463917\n",
      "control_sales_per_cust:  16.212605042016808\n",
      "trial_sales_per_txn:  8.720368392952464\n",
      "control_sales_per_txn:  8.567051509769088\n"
     ]
    }
   ],
   "source": [
    "trial_customers = df[df['STORE_NBR'] == trial_store]['LYLTY_CARD_NBR'].nunique()\n",
    "print('trial_customers : ',trial_customers)\n",
    "control_customers = df[df['STORE_NBR'].isin(control_stores)]['LYLTY_CARD_NBR'].nunique()\n",
    "print('Control Customers: ',control_customers)\n",
    "trial_txns_per_cust = df[df['STORE_NBR'] == trial_store].groupby('LYLTY_CARD_NBR')['TXN_ID'].nunique().mean()\n",
    "print('trial_txns_per_cust: ',trial_txns_per_cust)\n",
    "control_txns_per_cust = df[df['STORE_NBR'].isin(control_stores)].groupby('LYLTY_CARD_NBR')['TXN_ID'].nunique().mean()\n",
    "print('control_txns_per_cust: ',control_txns_per_cust)\n",
    "trial_items_per_txn = df[df['STORE_NBR'] == trial_store]['PROD_QTY'].mean()\n",
    "print('trial_items_per_txn: ',trial_items_per_txn)\n",
    "control_items_per_txn = df[df['STORE_NBR'].isin(control_stores)]['PROD_QTY'].mean()\n",
    "print('control_items_per_txn: ',control_items_per_txn)\n",
    "trial_sales_per_cust = df[df['STORE_NBR'] == trial_store]['TOT_SALES'].sum() / trial_customers\n",
    "print('trial_sales_per_cust: ',trial_sales_per_cust)\n",
    "control_sales_per_cust = df[df['STORE_NBR'].isin(control_stores)]['TOT_SALES'].sum() / control_customers\n",
    "print('control_sales_per_cust: ',control_sales_per_cust)\n",
    "trial_sales_per_txn = df[df['STORE_NBR'] == trial_store]['TOT_SALES'].mean()\n",
    "print('trial_sales_per_txn: ',trial_sales_per_txn)\n",
    "control_sales_per_txn = df[df['STORE_NBR'].isin(control_stores)]['TOT_SALES'].mean()\n",
    "print('control_sales_per_txn: ',control_sales_per_txn)"
   ]
  }
 ],
 "metadata": {
  "kernelspec": {
   "display_name": "Python 3 (ipykernel)",
   "language": "python",
   "name": "python3"
  },
  "language_info": {
   "codemirror_mode": {
    "name": "ipython",
    "version": 3
   },
   "file_extension": ".py",
   "mimetype": "text/x-python",
   "name": "python",
   "nbconvert_exporter": "python",
   "pygments_lexer": "ipython3",
   "version": "3.9.12"
  }
 },
 "nbformat": 4,
 "nbformat_minor": 5
}
